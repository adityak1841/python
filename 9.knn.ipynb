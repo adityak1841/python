{
 "cells": [
  {
   "cell_type": "code",
   "execution_count": 17,
   "metadata": {},
   "outputs": [
    {
     "name": "stdout",
     "output_type": "stream",
     "text": [
      "Old Dataset Head:\n",
      "    Weight(x2)  Height(y2)        Class\n",
      "0          51         167  Underweight\n",
      "1          66         177       Normal\n",
      "2          75         169   Overweight\n",
      "3          69         176       Normal\n",
      "4          50         173  Underweight\n",
      "New Dataset:\n",
      "     Weight(x2)  Height(y2)        Class\n",
      "0           51         167  Underweight\n",
      "1           66         177       Normal\n",
      "2           75         169   Overweight\n",
      "3           69         176          NaN\n",
      "4           50         173  Underweight\n",
      "5           82         170          NaN\n",
      "6           65         172       Normal\n",
      "7           58         180          NaN\n",
      "8           68         162   Overweight\n",
      "9           63         165       Normal\n",
      "10          52         174  Underweight\n",
      "11          58         169       Normal\n",
      "[[ 51 167]\n",
      " [ 66 177]\n",
      " [ 75 169]\n",
      " [ 69 176]\n",
      " [ 50 173]\n",
      " [ 82 170]\n",
      " [ 65 172]\n",
      " [ 58 180]\n",
      " [ 68 162]\n",
      " [ 63 165]\n",
      " [ 52 174]\n",
      " [ 58 169]\n",
      " [ 78 162]\n",
      " [ 65 168]\n",
      " [ 62 183]\n",
      " [ 72 180]\n",
      " [ 80 180]\n",
      " [ 60 178]\n",
      " [ 57 173]\n",
      " [ 73 164]\n",
      " [ 53 170]\n",
      " [ 74 182]\n",
      " [ 72 175]\n",
      " [ 53 163]\n",
      " [ 55 180]]\n"
     ]
    }
   ],
   "source": [
    "import pandas as pd\n",
    "\n",
    "# Load the datasets\n",
    "dataset = pd.read_csv('knn.csv')\n",
    "print(\"Old Dataset Head:\\n\", dataset.head())\n",
    "\n",
    "new = pd.read_csv('new.csv')\n",
    "print(\"New Dataset:\\n\", new)\n",
    "\n",
    "import numpy as np\n",
    "import matplotlib.pyplot as plt\n",
    "import seaborn as sns\n",
    "import math\n",
    "\n",
    "from sklearn.preprocessing import StandardScaler\n",
    "from sklearn.model_selection import train_test_split\n",
    "from sklearn.metrics import confusion_matrix\n",
    "\n",
    "if 'Class' in dataset.columns:\n",
    "    x_old = dataset.drop('Class', axis=1).values\n",
    "    print(x_old)\n",
    "else:\n",
    "    print(\"Error: 'Class' column not found in the dataset.\")\n",
    "\n",
    "if 'Class' in dataset.columns:\n",
    "    x_new = dataset.drop('Class', axis=1).values\n",
    "    print(x_new)\n",
    "else:\n",
    "    print(\"Error: 'Class' column not found in the dataset.\")"
   ]
  }
 ],
 "metadata": {
  "kernelspec": {
   "display_name": "base",
   "language": "python",
   "name": "python3"
  },
  "language_info": {
   "codemirror_mode": {
    "name": "ipython",
    "version": 3
   },
   "file_extension": ".py",
   "mimetype": "text/x-python",
   "name": "python",
   "nbconvert_exporter": "python",
   "pygments_lexer": "ipython3",
   "version": "3.8.5"
  },
  "orig_nbformat": 4
 },
 "nbformat": 4,
 "nbformat_minor": 2
}
